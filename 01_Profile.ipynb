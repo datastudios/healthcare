{
 "cells": [
  {
   "cell_type": "markdown",
   "metadata": {
    "application/vnd.databricks.v1+cell": {
     "cellMetadata": {
      "byteLimit": 2048000,
      "rowLimit": 10000
     },
     "inputWidgets": {},
     "nuid": "d0c3105b-306e-49bd-be8d-d7a73168ad4d",
     "showTitle": false,
     "title": ""
    }
   },
   "source": [
    "**PLEASE NOTE:** All data contained in this and subsequent notebooks are synthetic data that have been derived from a real-world dataset.  The datasets used for this notebooks contain no [Protected health information (PHI)](https://en.wikipedia.org/wiki/Protected_health_information) and are used for the purposes of demonstrating the machine learning development lifecycle used for this analysis."
   ]
  },
  {
   "cell_type": "markdown",
   "metadata": {
    "application/vnd.databricks.v1+cell": {
     "cellMetadata": {
      "byteLimit": 2048000,
      "rowLimit": 10000
     },
     "inputWidgets": {},
     "nuid": "77c35283-ff08-4fa5-b6de-fae01d854af1",
     "showTitle": false,
     "title": ""
    }
   },
   "source": [
    "# Introduction\n",
    "\n",
    "\n",
    "\n",
    "\n",
    "### Home Healthcare Industry\n",
    "\n",
    "Home health is a nursing specialty in which nurses provide multidimensional home care to patients of all ages. Home health care is a cost efficient way to deliver quality care in the convenience of the client's home. \n",
    " Home health nurses create care plans to achieve goals based on the client's diagnosis. These plans can include preventive, therapeutic, and rehabilitative actions. Home health nurses also supervise certified nursing assistants. The professional nursing organization for home health nurses is the Home Healthcare Nurses Association (HHNA). Home health care is intended for clients that are well enough to be discharged home, but still require skilled nursing personnel to assess, initiate and oversee nursing interventions.\n",
    "\n",
    "From Wikipedia: [Home Health Nursing](https://en.wikipedia.org/wiki/Home_health_nursing)\n",
    "\n",
    "### Business Challenge\n",
    "\n",
    "The primary focus of the home healthcare provider is to keep their patients healthy.  Home healthcare nurses make at-home visits, monitor a patients health, and take measures to proactively address health issues that might require a patient's hospitalization.  Beyond individual patient health, there are financial incentives from insurers for home healhcare organization that maintain the patient population under their care healthy and outside of the hospital.\n",
    "\n",
    "### Data Description\n",
    "\n",
    "During at-home visits by home healthcare nurses, patient health statistics were collected on a recurring basis with the frequency varying across the patient population.  \n",
    "\n",
    "The following datasets and corresponding data-points were collected: \n",
    "<br/><br/>\n",
    "\n",
    "- **Patients**\n",
    "  - Age\n",
    "  - Gender  \n",
    "* **Visits**\n",
    "  * Date of Visit (i.e., year, month, week number, date)\n",
    "  * Total Visits - Cumulative number of visits to-date.\n",
    "  * Total Hospitalizations for Week - Cumulative number of hospitalizations on a particular week if any.\n",
    "  * Total Hospitalizations - Cumulative number of hospitalizations to-date if any.\n",
    "\n",
    "* **Health Statistics**\n",
    "  * 150+ Health statistics including blood pressure, pulse, weight and medications taken by a particular patient.\n",
    "\n",
    "### Analysis and Model Deployment Goals\n",
    "\n",
    "In order to proactively identify, monitor and predict the likelihood of a patient requiring hospitalization a classification machine learning model was developed.  \n",
    "\n",
    "The primary goals for development were to:\n",
    "\n",
    "\n",
    "1. Develop a machine learning model that can aid in identifying patients at highest risk of hospitalizaiton on a weekly basis.\n",
    "2. Understand the risk factors that contribute to a high risk of hospitalization.\n",
    "3. Deploy the model and refresh with patient visit, health statistic, and hospitalization risk data on an on-going basis.\n",
    "\n"
   ]
  },
  {
   "cell_type": "markdown",
   "metadata": {
    "application/vnd.databricks.v1+cell": {
     "cellMetadata": {
      "byteLimit": 2048000,
      "rowLimit": 10000
     },
     "inputWidgets": {},
     "nuid": "a75f5716-6bdc-4469-b0d9-2a4780435b72",
     "showTitle": false,
     "title": ""
    }
   },
   "source": [
    "# Initialize Notebook"
   ]
  },
  {
   "cell_type": "markdown",
   "metadata": {
    "application/vnd.databricks.v1+cell": {
     "cellMetadata": {
      "byteLimit": 2048000,
      "rowLimit": 10000
     },
     "inputWidgets": {},
     "nuid": "e9aca356-8e4e-4170-b4db-b6da94f6cfc2",
     "showTitle": false,
     "title": ""
    }
   },
   "source": [
    "### Import Packages"
   ]
  },
  {
   "cell_type": "code",
   "execution_count": 1,
   "metadata": {
    "application/vnd.databricks.v1+cell": {
     "cellMetadata": {
      "byteLimit": 2048000,
      "rowLimit": 10000
     },
     "inputWidgets": {},
     "nuid": "7385e317-7476-4ae0-b30b-e6e8541f36ad",
     "showTitle": false,
     "title": ""
    },
    "tags": []
   },
   "outputs": [
    {
     "name": "stderr",
     "output_type": "stream",
     "text": [
      "C:\\Users\\dfsan\\anaconda3\\Lib\\site-packages\\numba\\core\\decorators.py:262: NumbaDeprecationWarning: \u001b[1mnumba.generated_jit is deprecated. Please see the documentation at: https://numba.readthedocs.io/en/stable/reference/deprecation.html#deprecation-of-generated-jit for more information and advice on a suitable replacement.\u001b[0m\n",
      "  warnings.warn(msg, NumbaDeprecationWarning)\n",
      "C:\\Users\\dfsan\\anaconda3\\Lib\\site-packages\\visions\\backends\\shared\\nan_handling.py:50: NumbaDeprecationWarning: \u001b[1mThe 'nopython' keyword argument was not supplied to the 'numba.jit' decorator. The implicit default value for this argument is currently False, but it will be changed to True in Numba 0.59.0. See https://numba.readthedocs.io/en/stable/reference/deprecation.html#deprecation-of-object-mode-fall-back-behaviour-when-using-jit for details.\u001b[0m\n",
      "  @nb.jit\n"
     ]
    }
   ],
   "source": [
    "import hashlib as hl\n",
    "import numpy as np\n",
    "import pandas as pd\n",
    "from sklearn.preprocessing import StandardScaler, OrdinalEncoder\n",
    "from sklearn.impute import SimpleImputer\n",
    "from sklearn.compose import ColumnTransformer\n",
    "from sklearn.pipeline import Pipeline\n",
    "import matplotlib.pyplot as plt\n",
    "%matplotlib inline\n",
    "import seaborn as sns\n",
    "from sklearn.preprocessing import StandardScaler\n",
    "from sklearn.cluster import KMeans\n",
    "from sklearn import metrics\n",
    "from sklearn.cluster import AgglomerativeClustering\n",
    "\n",
    "from ydata_profiling import ProfileReport\n",
    "\n",
    "import warnings\n",
    "warnings.filterwarnings('ignore')\n",
    "pd.options.mode.chained_assignment = None"
   ]
  },
  {
   "cell_type": "markdown",
   "metadata": {
    "application/vnd.databricks.v1+cell": {
     "cellMetadata": {
      "byteLimit": 2048000,
      "rowLimit": 10000
     },
     "inputWidgets": {},
     "nuid": "6ebc38cb-53c3-428a-94d4-546f5107b44d",
     "showTitle": false,
     "title": ""
    }
   },
   "source": [
    "### Load Utilities"
   ]
  },
  {
   "cell_type": "markdown",
   "metadata": {
    "application/vnd.databricks.v1+cell": {
     "cellMetadata": {
      "byteLimit": 2048000,
      "rowLimit": 10000
     },
     "inputWidgets": {},
     "nuid": "4fe166be-33f2-45ca-a8fb-131757a4f37c",
     "showTitle": false,
     "title": ""
    }
   },
   "source": [
    "Load common utility functions used throughout the data cleansing and transformation steps."
   ]
  },
  {
   "cell_type": "code",
   "execution_count": 2,
   "metadata": {
    "application/vnd.databricks.v1+cell": {
     "cellMetadata": {
      "byteLimit": 2048000,
      "rowLimit": 10000
     },
     "inputWidgets": {},
     "nuid": "f7f06d12-315c-48bf-994c-3f3e170463fd",
     "showTitle": false,
     "title": ""
    },
    "tags": []
   },
   "outputs": [],
   "source": [
    "%run ./utils/utils_diagnosis.ipynb"
   ]
  },
  {
   "cell_type": "markdown",
   "metadata": {
    "application/vnd.databricks.v1+cell": {
     "cellMetadata": {
      "byteLimit": 2048000,
      "rowLimit": 10000
     },
     "inputWidgets": {},
     "nuid": "e010aaf1-3010-4787-b1ea-5651ec6a81c3",
     "showTitle": false,
     "title": ""
    },
    "tags": []
   },
   "source": [
    "# Load Source Data\n"
   ]
  },
  {
   "cell_type": "markdown",
   "metadata": {
    "application/vnd.databricks.v1+cell": {
     "cellMetadata": {
      "byteLimit": 2048000,
      "rowLimit": 10000
     },
     "inputWidgets": {},
     "nuid": "5981b0e8-fb6e-453f-9406-64e4b91a17d4",
     "showTitle": false,
     "title": ""
    }
   },
   "source": [
    "## Patients"
   ]
  },
  {
   "cell_type": "markdown",
   "metadata": {
    "application/vnd.databricks.v1+cell": {
     "cellMetadata": {
      "byteLimit": 2048000,
      "rowLimit": 10000
     },
     "inputWidgets": {},
     "nuid": "6a147887-9b36-4340-a98b-57d529e8fed2",
     "showTitle": false,
     "title": ""
    }
   },
   "source": [
    "Load patient data containing age and gender information. (Additional features per patient are available such as demographic data.  For the purposes of this demo analysis only the age feature is being used.)"
   ]
  },
  {
   "cell_type": "code",
   "execution_count": 3,
   "metadata": {
    "application/vnd.databricks.v1+cell": {
     "cellMetadata": {
      "byteLimit": 2048000,
      "rowLimit": 10000
     },
     "inputWidgets": {},
     "nuid": "d639c85b-16b9-4fbd-a739-0954069c5a25",
     "showTitle": false,
     "title": ""
    },
    "tags": []
   },
   "outputs": [],
   "source": [
    "patients_df = pd.read_csv('./data/diagnosis_patients.csv')  "
   ]
  },
  {
   "cell_type": "markdown",
   "metadata": {
    "application/vnd.databricks.v1+cell": {
     "cellMetadata": {
      "byteLimit": 2048000,
      "rowLimit": 10000
     },
     "inputWidgets": {},
     "nuid": "486b4a2d-5fe9-4dac-8e84-ef1d6867837a",
     "showTitle": false,
     "title": ""
    }
   },
   "source": [
    "## Visits"
   ]
  },
  {
   "cell_type": "markdown",
   "metadata": {
    "application/vnd.databricks.v1+cell": {
     "cellMetadata": {
      "byteLimit": 2048000,
      "rowLimit": 10000
     },
     "inputWidgets": {},
     "nuid": "ffa52167-9284-481c-bd00-7c90f25a4369",
     "showTitle": false,
     "title": ""
    }
   },
   "source": [
    "Load patient visit history. Each record indicates a home visit by a patient caretaker during which health stats were collected or a hospitalization was recorded."
   ]
  },
  {
   "cell_type": "code",
   "execution_count": 4,
   "metadata": {
    "application/vnd.databricks.v1+cell": {
     "cellMetadata": {
      "byteLimit": 2048000,
      "rowLimit": 10000
     },
     "inputWidgets": {},
     "nuid": "ce25fc75-de0c-492a-84fc-e1a0dd4e3714",
     "showTitle": false,
     "title": ""
    },
    "tags": []
   },
   "outputs": [],
   "source": [
    "visits_df = pd.read_csv('./data/diagnosis_visits.csv')  "
   ]
  },
  {
   "cell_type": "markdown",
   "metadata": {
    "application/vnd.databricks.v1+cell": {
     "cellMetadata": {
      "byteLimit": 2048000,
      "rowLimit": 10000
     },
     "inputWidgets": {},
     "nuid": "22910dfa-3487-463f-85da-3204bba78e0c",
     "showTitle": false,
     "title": ""
    }
   },
   "source": [
    "## Health Statistics"
   ]
  },
  {
   "cell_type": "markdown",
   "metadata": {
    "application/vnd.databricks.v1+cell": {
     "cellMetadata": {
      "byteLimit": 2048000,
      "rowLimit": 10000
     },
     "inputWidgets": {},
     "nuid": "1477630b-a97a-4ebf-9af2-82047e63470c",
     "showTitle": false,
     "title": ""
    }
   },
   "source": [
    "Patient health statistics captured during visits."
   ]
  },
  {
   "cell_type": "code",
   "execution_count": 5,
   "metadata": {
    "application/vnd.databricks.v1+cell": {
     "cellMetadata": {
      "byteLimit": 2048000,
      "rowLimit": 10000
     },
     "inputWidgets": {},
     "nuid": "4f9c0b01-ed25-4e5f-9af3-3cf50fb86f6b",
     "showTitle": false,
     "title": ""
    },
    "tags": []
   },
   "outputs": [],
   "source": [
    "health_stats_df = pd.read_csv('./data/diagnosis_health_stats.csv') "
   ]
  },
  {
   "cell_type": "markdown",
   "metadata": {
    "application/vnd.databricks.v1+cell": {
     "cellMetadata": {
      "byteLimit": 2048000,
      "rowLimit": 10000
     },
     "inputWidgets": {},
     "nuid": "bc54c3c2-5012-46ab-842e-bb03385c23a9",
     "showTitle": false,
     "title": ""
    },
    "tags": []
   },
   "source": [
    "# Data Profiling"
   ]
  },
  {
   "cell_type": "markdown",
   "metadata": {
    "application/vnd.databricks.v1+cell": {
     "cellMetadata": {
      "byteLimit": 2048000,
      "rowLimit": 10000
     },
     "inputWidgets": {},
     "nuid": "fa23f9a5-6776-4893-8e14-535d14b43c05",
     "showTitle": false,
     "title": ""
    }
   },
   "source": [
    "The main goal with all subsequent data transformation steps are to ensure we have as complete and informative dataset as possible for prediction and health profiling of the patient population.\n",
    "\n",
    "We'll begin with some basic data profiling to understand the datasets we're working with and proceed from there. All data profiles are saved to the ./html/ directory."
   ]
  },
  {
   "cell_type": "markdown",
   "metadata": {
    "tags": []
   },
   "source": [
    "### Profile | Patients"
   ]
  },
  {
   "cell_type": "markdown",
   "metadata": {
    "tags": []
   },
   "source": [
    "Each row of patient data consists of a unique id (p_uid), age, and gender for a patient:"
   ]
  },
  {
   "cell_type": "code",
   "execution_count": 6,
   "metadata": {
    "tags": []
   },
   "outputs": [
    {
     "data": {
      "text/html": [
       "<div>\n",
       "<style scoped>\n",
       "    .dataframe tbody tr th:only-of-type {\n",
       "        vertical-align: middle;\n",
       "    }\n",
       "\n",
       "    .dataframe tbody tr th {\n",
       "        vertical-align: top;\n",
       "    }\n",
       "\n",
       "    .dataframe thead th {\n",
       "        text-align: right;\n",
       "    }\n",
       "</style>\n",
       "<table border=\"1\" class=\"dataframe\">\n",
       "  <thead>\n",
       "    <tr style=\"text-align: right;\">\n",
       "      <th></th>\n",
       "      <th>uid</th>\n",
       "      <th>age</th>\n",
       "      <th>gender</th>\n",
       "    </tr>\n",
       "  </thead>\n",
       "  <tbody>\n",
       "    <tr>\n",
       "      <th>0</th>\n",
       "      <td>003161fb221a48c334946bd91861e6dce983beda77327b...</td>\n",
       "      <td>69.00</td>\n",
       "      <td>female</td>\n",
       "    </tr>\n",
       "    <tr>\n",
       "      <th>1</th>\n",
       "      <td>0033dc924161304ec1cbecf867d9b881c4c9a124d5e4b1...</td>\n",
       "      <td>67.10</td>\n",
       "      <td>female</td>\n",
       "    </tr>\n",
       "    <tr>\n",
       "      <th>2</th>\n",
       "      <td>00b9a66b99c26fc102bc2cf7d7790b48ac8919d2d14203...</td>\n",
       "      <td>56.00</td>\n",
       "      <td>male</td>\n",
       "    </tr>\n",
       "    <tr>\n",
       "      <th>3</th>\n",
       "      <td>014dd96fbf7f2fbaba7e9a1abbc7243bb5567e95195c6e...</td>\n",
       "      <td>70.11</td>\n",
       "      <td>male</td>\n",
       "    </tr>\n",
       "    <tr>\n",
       "      <th>4</th>\n",
       "      <td>0202192e872ce848bd5c8cfe05da15d39132819a34f782...</td>\n",
       "      <td>64.90</td>\n",
       "      <td>female</td>\n",
       "    </tr>\n",
       "  </tbody>\n",
       "</table>\n",
       "</div>"
      ],
      "text/plain": [
       "                                                 uid    age  gender\n",
       "0  003161fb221a48c334946bd91861e6dce983beda77327b...  69.00  female\n",
       "1  0033dc924161304ec1cbecf867d9b881c4c9a124d5e4b1...  67.10  female\n",
       "2  00b9a66b99c26fc102bc2cf7d7790b48ac8919d2d14203...  56.00    male\n",
       "3  014dd96fbf7f2fbaba7e9a1abbc7243bb5567e95195c6e...  70.11    male\n",
       "4  0202192e872ce848bd5c8cfe05da15d39132819a34f782...  64.90  female"
      ]
     },
     "execution_count": 6,
     "metadata": {},
     "output_type": "execute_result"
    }
   ],
   "source": [
    "patients_df.head(5)"
   ]
  },
  {
   "cell_type": "markdown",
   "metadata": {
    "tags": []
   },
   "source": [
    "Each row should be unique combination of p_uid, age and gender. Let's verify:"
   ]
  },
  {
   "cell_type": "code",
   "execution_count": 7,
   "metadata": {
    "tags": []
   },
   "outputs": [
    {
     "data": {
      "text/plain": [
       "True"
      ]
     },
     "execution_count": 7,
     "metadata": {},
     "output_type": "execute_result"
    }
   ],
   "source": [
    "len(patients_df) == len(patients_df.drop_duplicates())"
   ]
  },
  {
   "cell_type": "markdown",
   "metadata": {
    "tags": []
   },
   "source": [
    "Age should be cast to int."
   ]
  },
  {
   "cell_type": "code",
   "execution_count": 8,
   "metadata": {
    "tags": []
   },
   "outputs": [
    {
     "name": "stdout",
     "output_type": "stream",
     "text": [
      "<class 'pandas.core.frame.DataFrame'>\n",
      "RangeIndex: 1635 entries, 0 to 1634\n",
      "Data columns (total 3 columns):\n",
      " #   Column  Non-Null Count  Dtype  \n",
      "---  ------  --------------  -----  \n",
      " 0   uid     1635 non-null   object \n",
      " 1   age     1635 non-null   float64\n",
      " 2   gender  1635 non-null   object \n",
      "dtypes: float64(1), object(2)\n",
      "memory usage: 38.4+ KB\n"
     ]
    }
   ],
   "source": [
    "patients_df.info()"
   ]
  },
  {
   "cell_type": "code",
   "execution_count": 9,
   "metadata": {
    "tags": []
   },
   "outputs": [],
   "source": [
    "patients_df.age = patients_df.age.astype(int)"
   ]
  },
  {
   "cell_type": "markdown",
   "metadata": {
    "tags": []
   },
   "source": [
    "#### Summary | Patient Data Profiling\n",
    "\n",
    "From our profiling of patient data, there are a few key points:\n",
    "\n",
    "* There are a total of 1,154 patients\n",
    "* 1,154 are female and 481 are male\n",
    "* The minimum age is 23 and maximum age is 103.\n",
    "* The average age is ~65 years old.\n",
    "* Age shows a nearly symetrical distribution with a skewness of -.08"
   ]
  },
  {
   "cell_type": "code",
   "execution_count": 10,
   "metadata": {
    "tags": []
   },
   "outputs": [
    {
     "data": {
      "application/vnd.jupyter.widget-view+json": {
       "model_id": "e487d09afbc74708af1094bf21bcacb1",
       "version_major": 2,
       "version_minor": 0
      },
      "text/plain": [
       "Summarize dataset:   0%|          | 0/5 [00:00<?, ?it/s]"
      ]
     },
     "metadata": {},
     "output_type": "display_data"
    },
    {
     "data": {
      "application/vnd.jupyter.widget-view+json": {
       "model_id": "9f755a763cfa448aad39e3a0b22a2b5f",
       "version_major": 2,
       "version_minor": 0
      },
      "text/plain": [
       "Generate report structure:   0%|          | 0/1 [00:00<?, ?it/s]"
      ]
     },
     "metadata": {},
     "output_type": "display_data"
    },
    {
     "data": {
      "application/vnd.jupyter.widget-view+json": {
       "model_id": "0a143d64c5044518a7215407eef829f3",
       "version_major": 2,
       "version_minor": 0
      },
      "text/plain": [
       "Render HTML:   0%|          | 0/1 [00:00<?, ?it/s]"
      ]
     },
     "metadata": {},
     "output_type": "display_data"
    },
    {
     "data": {
      "application/vnd.jupyter.widget-view+json": {
       "model_id": "3dedea8a025e4781b87b8c9a8f39068a",
       "version_major": 2,
       "version_minor": 0
      },
      "text/plain": [
       "Export report to file:   0%|          | 0/1 [00:00<?, ?it/s]"
      ]
     },
     "metadata": {},
     "output_type": "display_data"
    }
   ],
   "source": [
    "patients_report = ProfileReport(patients_df.drop('uid', axis=1), title='Original Data | Patients')\n",
    "patients_report.to_file(\"./htm/patients_report.html\")"
   ]
  },
  {
   "cell_type": "markdown",
   "metadata": {
    "tags": []
   },
   "source": [
    "### Profile | Visits"
   ]
  },
  {
   "cell_type": "markdown",
   "metadata": {
    "tags": []
   },
   "source": [
    "Each row of patient visit data consists of a unique patient identifier, visit year, month, week number and visit week date.  There are also fields capturing the cumulative number of visits, hospitalizations in a particular week, and total historical hospitalization count."
   ]
  },
  {
   "cell_type": "code",
   "execution_count": 11,
   "metadata": {
    "tags": []
   },
   "outputs": [
    {
     "data": {
      "text/html": [
       "<div>\n",
       "<style scoped>\n",
       "    .dataframe tbody tr th:only-of-type {\n",
       "        vertical-align: middle;\n",
       "    }\n",
       "\n",
       "    .dataframe tbody tr th {\n",
       "        vertical-align: top;\n",
       "    }\n",
       "\n",
       "    .dataframe thead th {\n",
       "        text-align: right;\n",
       "    }\n",
       "</style>\n",
       "<table border=\"1\" class=\"dataframe\">\n",
       "  <thead>\n",
       "    <tr style=\"text-align: right;\">\n",
       "      <th></th>\n",
       "      <th>uid</th>\n",
       "      <th>visit_date_year</th>\n",
       "      <th>visit_date_month</th>\n",
       "      <th>visit_date_week_no</th>\n",
       "      <th>visit_date_week_dt</th>\n",
       "      <th>ttl_visits</th>\n",
       "      <th>ttl_hosp_week</th>\n",
       "      <th>ttl_hosp_count</th>\n",
       "      <th>hospitalized</th>\n",
       "    </tr>\n",
       "  </thead>\n",
       "  <tbody>\n",
       "    <tr>\n",
       "      <th>0</th>\n",
       "      <td>713be175a617a8ed4912693cf7276d5bdfddc3866eae65...</td>\n",
       "      <td>2018</td>\n",
       "      <td>8</td>\n",
       "      <td>34</td>\n",
       "      <td>2018-08-20</td>\n",
       "      <td>0</td>\n",
       "      <td>0</td>\n",
       "      <td>0</td>\n",
       "      <td>0</td>\n",
       "    </tr>\n",
       "    <tr>\n",
       "      <th>1</th>\n",
       "      <td>713be175a617a8ed4912693cf7276d5bdfddc3866eae65...</td>\n",
       "      <td>2018</td>\n",
       "      <td>8</td>\n",
       "      <td>35</td>\n",
       "      <td>2018-08-27</td>\n",
       "      <td>5</td>\n",
       "      <td>0</td>\n",
       "      <td>0</td>\n",
       "      <td>0</td>\n",
       "    </tr>\n",
       "    <tr>\n",
       "      <th>2</th>\n",
       "      <td>713be175a617a8ed4912693cf7276d5bdfddc3866eae65...</td>\n",
       "      <td>2018</td>\n",
       "      <td>9</td>\n",
       "      <td>35</td>\n",
       "      <td>2018-08-27</td>\n",
       "      <td>7</td>\n",
       "      <td>0</td>\n",
       "      <td>0</td>\n",
       "      <td>0</td>\n",
       "    </tr>\n",
       "    <tr>\n",
       "      <th>3</th>\n",
       "      <td>713be175a617a8ed4912693cf7276d5bdfddc3866eae65...</td>\n",
       "      <td>2018</td>\n",
       "      <td>9</td>\n",
       "      <td>36</td>\n",
       "      <td>2018-09-03</td>\n",
       "      <td>14</td>\n",
       "      <td>0</td>\n",
       "      <td>0</td>\n",
       "      <td>0</td>\n",
       "    </tr>\n",
       "    <tr>\n",
       "      <th>4</th>\n",
       "      <td>713be175a617a8ed4912693cf7276d5bdfddc3866eae65...</td>\n",
       "      <td>2018</td>\n",
       "      <td>9</td>\n",
       "      <td>37</td>\n",
       "      <td>2018-09-10</td>\n",
       "      <td>21</td>\n",
       "      <td>0</td>\n",
       "      <td>0</td>\n",
       "      <td>0</td>\n",
       "    </tr>\n",
       "  </tbody>\n",
       "</table>\n",
       "</div>"
      ],
      "text/plain": [
       "                                                 uid  visit_date_year  \\\n",
       "0  713be175a617a8ed4912693cf7276d5bdfddc3866eae65...             2018   \n",
       "1  713be175a617a8ed4912693cf7276d5bdfddc3866eae65...             2018   \n",
       "2  713be175a617a8ed4912693cf7276d5bdfddc3866eae65...             2018   \n",
       "3  713be175a617a8ed4912693cf7276d5bdfddc3866eae65...             2018   \n",
       "4  713be175a617a8ed4912693cf7276d5bdfddc3866eae65...             2018   \n",
       "\n",
       "   visit_date_month  visit_date_week_no visit_date_week_dt  ttl_visits  \\\n",
       "0                 8                  34         2018-08-20           0   \n",
       "1                 8                  35         2018-08-27           5   \n",
       "2                 9                  35         2018-08-27           7   \n",
       "3                 9                  36         2018-09-03          14   \n",
       "4                 9                  37         2018-09-10          21   \n",
       "\n",
       "   ttl_hosp_week  ttl_hosp_count  hospitalized  \n",
       "0              0               0             0  \n",
       "1              0               0             0  \n",
       "2              0               0             0  \n",
       "3              0               0             0  \n",
       "4              0               0             0  "
      ]
     },
     "execution_count": 11,
     "metadata": {},
     "output_type": "execute_result"
    }
   ],
   "source": [
    "visits_df.head(5)"
   ]
  },
  {
   "cell_type": "markdown",
   "metadata": {},
   "source": [
    "Each row in the visits data set should correspond to a unique combination of fields.  Let's verify:"
   ]
  },
  {
   "cell_type": "code",
   "execution_count": 12,
   "metadata": {
    "tags": []
   },
   "outputs": [
    {
     "data": {
      "text/plain": [
       "True"
      ]
     },
     "execution_count": 12,
     "metadata": {},
     "output_type": "execute_result"
    }
   ],
   "source": [
    "len(visits_df) == len(visits_df.drop_duplicates())"
   ]
  },
  {
   "cell_type": "markdown",
   "metadata": {
    "tags": []
   },
   "source": [
    "Let's verify our variables are of the correct data types:"
   ]
  },
  {
   "cell_type": "code",
   "execution_count": 13,
   "metadata": {
    "tags": []
   },
   "outputs": [
    {
     "name": "stdout",
     "output_type": "stream",
     "text": [
      "<class 'pandas.core.frame.DataFrame'>\n",
      "RangeIndex: 28215 entries, 0 to 28214\n",
      "Data columns (total 9 columns):\n",
      " #   Column              Non-Null Count  Dtype \n",
      "---  ------              --------------  ----- \n",
      " 0   uid                 28215 non-null  object\n",
      " 1   visit_date_year     28215 non-null  int64 \n",
      " 2   visit_date_month    28215 non-null  int64 \n",
      " 3   visit_date_week_no  28215 non-null  int64 \n",
      " 4   visit_date_week_dt  28215 non-null  object\n",
      " 5   ttl_visits          28215 non-null  int64 \n",
      " 6   ttl_hosp_week       28215 non-null  int64 \n",
      " 7   ttl_hosp_count      28215 non-null  int64 \n",
      " 8   hospitalized        28215 non-null  int64 \n",
      "dtypes: int64(7), object(2)\n",
      "memory usage: 1.9+ MB\n"
     ]
    }
   ],
   "source": [
    "visits_df.info()"
   ]
  },
  {
   "cell_type": "markdown",
   "metadata": {},
   "source": [
    "Cast variables to correct types:"
   ]
  },
  {
   "cell_type": "code",
   "execution_count": 14,
   "metadata": {
    "tags": []
   },
   "outputs": [],
   "source": [
    "# Remove duplicate rows\n",
    "visits_df.drop_duplicates(inplace=True)\n",
    "    \n",
    "# Convert year, month, and week_no to ints for now\n",
    "visits_df.visit_date_year = visits_df.visit_date_year.astype(int)\n",
    "visits_df.visit_date_month = visits_df.visit_date_month.astype(int)\n",
    "visits_df.visit_date_week_no = visits_df.visit_date_week_no.astype(int)\n",
    "\n",
    "# Convert 'visit_date_week_dt' to datetime\n",
    "visits_df.visit_date_week_dt = pd.to_datetime(visits_df.visit_date_week_dt)\n",
    "\n",
    "# Convert selected columns to integers\n",
    "visits_df[['ttl_visits', 'ttl_hosp_week', 'ttl_hosp_count', 'hospitalized']] = \\\n",
    "visits_df[['ttl_visits', 'ttl_hosp_week', 'ttl_hosp_count', 'hospitalized']].astype(int)"
   ]
  },
  {
   "cell_type": "markdown",
   "metadata": {
    "tags": []
   },
   "source": [
    "All variables now have the correct data type:"
   ]
  },
  {
   "cell_type": "code",
   "execution_count": 15,
   "metadata": {
    "tags": []
   },
   "outputs": [
    {
     "name": "stdout",
     "output_type": "stream",
     "text": [
      "<class 'pandas.core.frame.DataFrame'>\n",
      "Int64Index: 28215 entries, 0 to 28214\n",
      "Data columns (total 9 columns):\n",
      " #   Column              Non-Null Count  Dtype         \n",
      "---  ------              --------------  -----         \n",
      " 0   uid                 28215 non-null  object        \n",
      " 1   visit_date_year     28215 non-null  int32         \n",
      " 2   visit_date_month    28215 non-null  int32         \n",
      " 3   visit_date_week_no  28215 non-null  int32         \n",
      " 4   visit_date_week_dt  28215 non-null  datetime64[ns]\n",
      " 5   ttl_visits          28215 non-null  int32         \n",
      " 6   ttl_hosp_week       28215 non-null  int32         \n",
      " 7   ttl_hosp_count      28215 non-null  int32         \n",
      " 8   hospitalized        28215 non-null  int32         \n",
      "dtypes: datetime64[ns](1), int32(7), object(1)\n",
      "memory usage: 1.4+ MB\n"
     ]
    }
   ],
   "source": [
    "visits_df.info()"
   ]
  },
  {
   "cell_type": "markdown",
   "metadata": {
    "tags": []
   },
   "source": [
    "#### Summary | Visit Data Profiling\n",
    "\n",
    "From our profiling of patient data, there are a few key points:\n",
    "\n",
    "* The majority of visits occured in 2020 (10,489), then 2019 (8,974) and 2021 (4,774). \n",
    "* The Majority of visits (92%) were non-hospitalization visits (i.e., 0 hosptilizations for the week) meaning, our dataset is highly imbalanced in terms of our target variable--visits with hospitalizations."
   ]
  },
  {
   "cell_type": "code",
   "execution_count": 16,
   "metadata": {
    "tags": []
   },
   "outputs": [
    {
     "data": {
      "application/vnd.jupyter.widget-view+json": {
       "model_id": "66c46f4d396b42db9ce4e334972f3d13",
       "version_major": 2,
       "version_minor": 0
      },
      "text/plain": [
       "Summarize dataset:   0%|          | 0/5 [00:00<?, ?it/s]"
      ]
     },
     "metadata": {},
     "output_type": "display_data"
    },
    {
     "data": {
      "application/vnd.jupyter.widget-view+json": {
       "model_id": "4580b1d5ee9c4d8ba10a5107085f07fb",
       "version_major": 2,
       "version_minor": 0
      },
      "text/plain": [
       "Generate report structure:   0%|          | 0/1 [00:00<?, ?it/s]"
      ]
     },
     "metadata": {},
     "output_type": "display_data"
    },
    {
     "data": {
      "application/vnd.jupyter.widget-view+json": {
       "model_id": "538297af3ec646ca8e44531d9fa53949",
       "version_major": 2,
       "version_minor": 0
      },
      "text/plain": [
       "Render HTML:   0%|          | 0/1 [00:00<?, ?it/s]"
      ]
     },
     "metadata": {},
     "output_type": "display_data"
    },
    {
     "data": {
      "application/vnd.jupyter.widget-view+json": {
       "model_id": "cc9748b5a8404435973644776ac137e6",
       "version_major": 2,
       "version_minor": 0
      },
      "text/plain": [
       "Export report to file:   0%|          | 0/1 [00:00<?, ?it/s]"
      ]
     },
     "metadata": {},
     "output_type": "display_data"
    }
   ],
   "source": [
    "visits_report = ProfileReport(visits_df.drop('uid', axis=1), title='Original Data | Visits')\n",
    "visits_report.to_file(\"./htm/visits_report.html\")"
   ]
  },
  {
   "cell_type": "markdown",
   "metadata": {
    "tags": []
   },
   "source": [
    "### Profile | Health Stats"
   ]
  },
  {
   "cell_type": "markdown",
   "metadata": {
    "tags": []
   },
   "source": [
    "The health stats data **should** be unique at the row level with each row corresponding to a visit for a specific patient (uid).  However, due to the manner in which the data was captured, the field containing patient medications (med_profile_medication) will cause a specific visit's information to be duplicated for each medication that was recorded for a patient. For example, if on a particular visit a patient was taking 5 medications, there would be 5 rows corresponding to each medication with all other fields duplicated for each row.  Ultimately, we'd like to predict each patient's likelihood of hospitalization on a weekly basis using health stats and visit history data.  So, we'll need to align the grain of both datasets to the weekly level."
   ]
  },
  {
   "cell_type": "code",
   "execution_count": 17,
   "metadata": {
    "tags": []
   },
   "outputs": [
    {
     "data": {
      "text/html": [
       "<div>\n",
       "<style scoped>\n",
       "    .dataframe tbody tr th:only-of-type {\n",
       "        vertical-align: middle;\n",
       "    }\n",
       "\n",
       "    .dataframe tbody tr th {\n",
       "        vertical-align: top;\n",
       "    }\n",
       "\n",
       "    .dataframe thead th {\n",
       "        text-align: right;\n",
       "    }\n",
       "</style>\n",
       "<table border=\"1\" class=\"dataframe\">\n",
       "  <thead>\n",
       "    <tr style=\"text-align: right;\">\n",
       "      <th></th>\n",
       "      <th>uid</th>\n",
       "      <th>visit_date_week_dt</th>\n",
       "      <th>med_profile_medication</th>\n",
       "      <th>visit_date</th>\n",
       "      <th>visit_date_year</th>\n",
       "      <th>visit_date_month</th>\n",
       "      <th>visit_date_week_no</th>\n",
       "      <th>bp_sys</th>\n",
       "      <th>bp_dia</th>\n",
       "      <th>weight_lbs</th>\n",
       "      <th>...</th>\n",
       "      <th>neuro_unsteady_gait</th>\n",
       "      <th>neuro_paralysis</th>\n",
       "      <th>neuro_tremors</th>\n",
       "      <th>psychological_behavioral</th>\n",
       "      <th>documentation_type</th>\n",
       "      <th>bp_type</th>\n",
       "      <th>temp_t</th>\n",
       "      <th>device_o</th>\n",
       "      <th>pulse_r</th>\n",
       "      <th>resp_descr</th>\n",
       "    </tr>\n",
       "  </thead>\n",
       "  <tbody>\n",
       "    <tr>\n",
       "      <th>0</th>\n",
       "      <td>f4b99bb2d02ee6c067dc6cbe54f2aa394f81aafb6bafb6...</td>\n",
       "      <td>2020-03-09</td>\n",
       "      <td>BENADRYL</td>\n",
       "      <td>2020-03-12</td>\n",
       "      <td>2020</td>\n",
       "      <td>3</td>\n",
       "      <td>11</td>\n",
       "      <td>123.020323</td>\n",
       "      <td>71.974086</td>\n",
       "      <td>146.0</td>\n",
       "      <td>...</td>\n",
       "      <td>Yes</td>\n",
       "      <td>No</td>\n",
       "      <td>No</td>\n",
       "      <td>Asymptomatic</td>\n",
       "      <td>Supervisory Visit</td>\n",
       "      <td>sitting</td>\n",
       "      <td>Tympanic</td>\n",
       "      <td>no device</td>\n",
       "      <td>Reg</td>\n",
       "      <td>reg</td>\n",
       "    </tr>\n",
       "    <tr>\n",
       "      <th>1</th>\n",
       "      <td>f4b99bb2d02ee6c067dc6cbe54f2aa394f81aafb6bafb6...</td>\n",
       "      <td>2020-03-09</td>\n",
       "      <td>BENADRYL</td>\n",
       "      <td>2020-03-12</td>\n",
       "      <td>2020</td>\n",
       "      <td>3</td>\n",
       "      <td>11</td>\n",
       "      <td>123.020323</td>\n",
       "      <td>71.974086</td>\n",
       "      <td>146.0</td>\n",
       "      <td>...</td>\n",
       "      <td>Yes</td>\n",
       "      <td>No</td>\n",
       "      <td>No</td>\n",
       "      <td>Asymptomatic</td>\n",
       "      <td>Supervisory Visit</td>\n",
       "      <td>sitting</td>\n",
       "      <td>Tympanic</td>\n",
       "      <td>no device</td>\n",
       "      <td>Reg</td>\n",
       "      <td>reg</td>\n",
       "    </tr>\n",
       "    <tr>\n",
       "      <th>2</th>\n",
       "      <td>f4b99bb2d02ee6c067dc6cbe54f2aa394f81aafb6bafb6...</td>\n",
       "      <td>2020-03-09</td>\n",
       "      <td>BENADRYL</td>\n",
       "      <td>2020-03-12</td>\n",
       "      <td>2020</td>\n",
       "      <td>3</td>\n",
       "      <td>11</td>\n",
       "      <td>123.020323</td>\n",
       "      <td>71.974086</td>\n",
       "      <td>146.0</td>\n",
       "      <td>...</td>\n",
       "      <td>Yes</td>\n",
       "      <td>No</td>\n",
       "      <td>No</td>\n",
       "      <td>Asymptomatic</td>\n",
       "      <td>Supervisory Visit</td>\n",
       "      <td>sitting</td>\n",
       "      <td>Tympanic</td>\n",
       "      <td>no device</td>\n",
       "      <td>Reg</td>\n",
       "      <td>reg</td>\n",
       "    </tr>\n",
       "    <tr>\n",
       "      <th>3</th>\n",
       "      <td>f4b99bb2d02ee6c067dc6cbe54f2aa394f81aafb6bafb6...</td>\n",
       "      <td>2020-03-09</td>\n",
       "      <td>BENADRYL</td>\n",
       "      <td>2020-03-12</td>\n",
       "      <td>2020</td>\n",
       "      <td>3</td>\n",
       "      <td>11</td>\n",
       "      <td>123.020323</td>\n",
       "      <td>71.974086</td>\n",
       "      <td>146.0</td>\n",
       "      <td>...</td>\n",
       "      <td>Yes</td>\n",
       "      <td>No</td>\n",
       "      <td>No</td>\n",
       "      <td>Asymptomatic</td>\n",
       "      <td>Supervisory Visit</td>\n",
       "      <td>sitting</td>\n",
       "      <td>Tympanic</td>\n",
       "      <td>no device</td>\n",
       "      <td>Reg</td>\n",
       "      <td>reg</td>\n",
       "    </tr>\n",
       "    <tr>\n",
       "      <th>4</th>\n",
       "      <td>f4b99bb2d02ee6c067dc6cbe54f2aa394f81aafb6bafb6...</td>\n",
       "      <td>2020-03-09</td>\n",
       "      <td>BENADRYL</td>\n",
       "      <td>2020-03-12</td>\n",
       "      <td>2020</td>\n",
       "      <td>3</td>\n",
       "      <td>11</td>\n",
       "      <td>123.020323</td>\n",
       "      <td>71.974086</td>\n",
       "      <td>146.0</td>\n",
       "      <td>...</td>\n",
       "      <td>Yes</td>\n",
       "      <td>No</td>\n",
       "      <td>No</td>\n",
       "      <td>Asymptomatic</td>\n",
       "      <td>Supervisory Visit</td>\n",
       "      <td>sitting</td>\n",
       "      <td>Tympanic</td>\n",
       "      <td>no device</td>\n",
       "      <td>Reg</td>\n",
       "      <td>reg</td>\n",
       "    </tr>\n",
       "  </tbody>\n",
       "</table>\n",
       "<p>5 rows × 172 columns</p>\n",
       "</div>"
      ],
      "text/plain": [
       "                                                 uid visit_date_week_dt  \\\n",
       "0  f4b99bb2d02ee6c067dc6cbe54f2aa394f81aafb6bafb6...         2020-03-09   \n",
       "1  f4b99bb2d02ee6c067dc6cbe54f2aa394f81aafb6bafb6...         2020-03-09   \n",
       "2  f4b99bb2d02ee6c067dc6cbe54f2aa394f81aafb6bafb6...         2020-03-09   \n",
       "3  f4b99bb2d02ee6c067dc6cbe54f2aa394f81aafb6bafb6...         2020-03-09   \n",
       "4  f4b99bb2d02ee6c067dc6cbe54f2aa394f81aafb6bafb6...         2020-03-09   \n",
       "\n",
       "  med_profile_medication  visit_date  visit_date_year  visit_date_month  \\\n",
       "0               BENADRYL  2020-03-12             2020                 3   \n",
       "1               BENADRYL  2020-03-12             2020                 3   \n",
       "2               BENADRYL  2020-03-12             2020                 3   \n",
       "3               BENADRYL  2020-03-12             2020                 3   \n",
       "4               BENADRYL  2020-03-12             2020                 3   \n",
       "\n",
       "   visit_date_week_no      bp_sys     bp_dia  weight_lbs  ...  \\\n",
       "0                  11  123.020323  71.974086       146.0  ...   \n",
       "1                  11  123.020323  71.974086       146.0  ...   \n",
       "2                  11  123.020323  71.974086       146.0  ...   \n",
       "3                  11  123.020323  71.974086       146.0  ...   \n",
       "4                  11  123.020323  71.974086       146.0  ...   \n",
       "\n",
       "   neuro_unsteady_gait  neuro_paralysis  neuro_tremors  \\\n",
       "0                  Yes               No             No   \n",
       "1                  Yes               No             No   \n",
       "2                  Yes               No             No   \n",
       "3                  Yes               No             No   \n",
       "4                  Yes               No             No   \n",
       "\n",
       "   psychological_behavioral documentation_type  bp_type    temp_t   device_o  \\\n",
       "0              Asymptomatic  Supervisory Visit  sitting  Tympanic  no device   \n",
       "1              Asymptomatic  Supervisory Visit  sitting  Tympanic  no device   \n",
       "2              Asymptomatic  Supervisory Visit  sitting  Tympanic  no device   \n",
       "3              Asymptomatic  Supervisory Visit  sitting  Tympanic  no device   \n",
       "4              Asymptomatic  Supervisory Visit  sitting  Tympanic  no device   \n",
       "\n",
       "  pulse_r resp_descr  \n",
       "0     Reg        reg  \n",
       "1     Reg        reg  \n",
       "2     Reg        reg  \n",
       "3     Reg        reg  \n",
       "4     Reg        reg  \n",
       "\n",
       "[5 rows x 172 columns]"
      ]
     },
     "execution_count": 17,
     "metadata": {},
     "output_type": "execute_result"
    }
   ],
   "source": [
    "health_stats_df.head(5)"
   ]
  },
  {
   "cell_type": "code",
   "execution_count": 18,
   "metadata": {
    "tags": []
   },
   "outputs": [
    {
     "name": "stdout",
     "output_type": "stream",
     "text": [
      "<class 'pandas.core.frame.DataFrame'>\n",
      "RangeIndex: 504896 entries, 0 to 504895\n",
      "Data columns (total 172 columns):\n",
      " #    Column                                              Non-Null Count   Dtype  \n",
      "---   ------                                              --------------   -----  \n",
      " 0    uid                                                 504896 non-null  object \n",
      " 1    visit_date_week_dt                                  504896 non-null  object \n",
      " 2    med_profile_medication                              503309 non-null  object \n",
      " 3    visit_date                                          504896 non-null  object \n",
      " 4    visit_date_year                                     504896 non-null  int64  \n",
      " 5    visit_date_month                                    504896 non-null  int64  \n",
      " 6    visit_date_week_no                                  504896 non-null  int64  \n",
      " 7    bp_sys                                              389144 non-null  float64\n",
      " 8    bp_dia                                              389144 non-null  float64\n",
      " 9    weight_lbs                                          389144 non-null  float64\n",
      " 10   temp_f                                              389144 non-null  float64\n",
      " 11   pulse                                               389144 non-null  float64\n",
      " 12   height_val                                          389144 non-null  float64\n",
      " 13   resp_val                                            389144 non-null  float64\n",
      " 14   lungs_left_anterior                                 474152 non-null  object \n",
      " 15   lungs_right_anterior                                474152 non-null  object \n",
      " 16   lungs_left_posterior_upper                          474152 non-null  object \n",
      " 17   lungs_right_posterior_upper                         474152 non-null  object \n",
      " 18   lungs_left_posterior_lower                          474152 non-null  object \n",
      " 19   lungs_right_posterior_middle                        474152 non-null  object \n",
      " 20   lungs_right_posterior_lower                         474152 non-null  object \n",
      " 21   asymptomatic                                        482446 non-null  object \n",
      " 22   activity_intolerance                                482446 non-null  object \n",
      " 23   capillary_refill_greater_than_3_seconds             482446 non-null  object \n",
      " 24   clubbing                                            482446 non-null  object \n",
      " 25   fatigues_easily                                     482446 non-null  object \n",
      " 26   orthopnea                                           482446 non-null  object \n",
      " 27   palpitations                                        482446 non-null  object \n",
      " 28   restless                                            482446 non-null  object \n",
      " 29   sob_at_rest                                         482446 non-null  object \n",
      " 30   gi_asymptomatic                                     476841 non-null  object \n",
      " 31   incontinent                                         476841 non-null  object \n",
      " 32   bloody_stool                                        476841 non-null  object \n",
      " 33   constipation                                        476841 non-null  object \n",
      " 34   diarrhea                                            476841 non-null  object \n",
      " 35   distention                                          476841 non-null  object \n",
      " 36   flatulence                                          476841 non-null  object \n",
      " 37   indigestion                                         476841 non-null  object \n",
      " 38   nausea                                              476841 non-null  object \n",
      " 39   vomiting                                            476841 non-null  object \n",
      " 40   bowel_sounds                                        476841 non-null  object \n",
      " 41   gu_asymptomatic                                     476841 non-null  object \n",
      " 42   gu_incontinent                                      476841 non-null  object \n",
      " 43   anuria                                              476841 non-null  object \n",
      " 44   burning                                             476841 non-null  object \n",
      " 45   dysuria                                             476841 non-null  object \n",
      " 46   hematuria                                           476841 non-null  object \n",
      " 47   hesitancy                                           476841 non-null  object \n",
      " 48   gu_frequency                                        476841 non-null  object \n",
      " 49   nocturia                                            476841 non-null  object \n",
      " 50   oliguria                                            476841 non-null  object \n",
      " 51   gu_polyuria                                         476841 non-null  object \n",
      " 52   retention                                           476841 non-null  object \n",
      " 53   urgency                                             476841 non-null  object \n",
      " 54   musculoskeletal_asymptomatic                        476953 non-null  object \n",
      " 55   amputation                                          476953 non-null  object \n",
      " 56   cast                                                476953 non-null  object \n",
      " 57   deformities                                         476953 non-null  object \n",
      " 58   joint_swelling                                      476953 non-null  object \n",
      " 59   paralysis_see_neuro                                 476953 non-null  object \n",
      " 60   paresthesia                                         476953 non-null  object \n",
      " 61   stiffness                                           476953 non-null  object \n",
      " 62   tremors_see_neuro                                   476953 non-null  object \n",
      " 63   weakness                                            476953 non-null  object \n",
      " 64   unsteady_gait                                       476953 non-null  object \n",
      " 65   rom_wnl                                             476953 non-null  object \n",
      " 66   rom_diminished                                      476953 non-null  object \n",
      " 67   ambulatory                                          476953 non-null  object \n",
      " 68   no_device                                           476953 non-null  object \n",
      " 69   independent_in_ambulation_transfers                 476953 non-null  object \n",
      " 70   transfer_assist                                     476953 non-null  object \n",
      " 71   ambulation_assist                                   476953 non-null  object \n",
      " 72   device                                              476953 non-null  object \n",
      " 73   device_cane                                         418809 non-null  object \n",
      " 74   device_walker                                       392371 non-null  object \n",
      " 75   device_independent_in_ambulation_transfers          476953 non-null  object \n",
      " 76   device_transfer_assist                              470921 non-null  object \n",
      " 77   device_ambulation_assist                            475100 non-null  object \n",
      " 78   gait_abnormality                                    476953 non-null  object \n",
      " 79   non_ambulatory                                      476953 non-null  object \n",
      " 80   bedbound                                            476953 non-null  object \n",
      " 81   chairbound                                          476953 non-null  object \n",
      " 82   non_ambulatory_independent_in_ambulation_transfers  476953 non-null  object \n",
      " 83   non_ambulatory_transfer_assist                      476953 non-null  object \n",
      " 84   non_ambulatory_transfer_board                       476953 non-null  object \n",
      " 85   hoyer_lift                                          476953 non-null  object \n",
      " 86   non_ambulatory_other                                476953 non-null  object \n",
      " 87   pedal_pulses                                        476952 non-null  object \n",
      " 88   peripheral_vascular_temperature                     476952 non-null  object \n",
      " 89   edema                                               476952 non-null  object \n",
      " 90   right_upper_extremity                               476348 non-null  object \n",
      " 91   left_upper_extremity                                475623 non-null  object \n",
      " 92   edema_other                                         476302 non-null  object \n",
      " 93   anasarca                                            476953 non-null  object \n",
      " 94   abdominal_girth                                     476953 non-null  object \n",
      " 95   pain                                                476953 non-null  object \n",
      " 96   numeric_pain_scale                                  476953 non-null  object \n",
      " 97   frequency                                           476953 non-null  object \n",
      " 98   pain_interferes_with_ad_ls                          476953 non-null  object \n",
      " 99   non_verbal_pain_scale                               476953 non-null  object \n",
      " 100  total_score_y                                       476953 non-null  float64\n",
      " 101  endocrine_hematopoietic_asymptomatic                482686 non-null  object \n",
      " 102  anemia                                              482686 non-null  object \n",
      " 103  bruises_easily                                      482686 non-null  object \n",
      " 104  clotting_disorder                                   482686 non-null  object \n",
      " 105  enlarged_thyroid                                    482686 non-null  object \n",
      " 106  excessive_bleeding                                  482686 non-null  object \n",
      " 107  excessive_bruising                                  482686 non-null  object \n",
      " 108  hyperthyroidism                                     482686 non-null  object \n",
      " 109  hypothyroidism                                      482686 non-null  object \n",
      " 110  intolerance_to_temperature_changes                  482686 non-null  object \n",
      " 111  diabetes_asymptomatic                               482686 non-null  object \n",
      " 112  blurred_vision                                      482686 non-null  object \n",
      " 113  confusion                                           482686 non-null  object \n",
      " 114  chills                                              482686 non-null  object \n",
      " 115  diaphoresis                                         482686 non-null  object \n",
      " 116  difficulty_concentrating                            482686 non-null  object \n",
      " 117  fatigue                                             482686 non-null  object \n",
      " 118  headache                                            482686 non-null  object \n",
      " 119  irritability                                        482686 non-null  object \n",
      " 120  malaise                                             482686 non-null  object \n",
      " 121  nervous                                             482686 non-null  object \n",
      " 122  pale                                                482686 non-null  object \n",
      " 123  polydipsia                                          482686 non-null  object \n",
      " 124  diabetes_polyuria                                   482686 non-null  object \n",
      " 125  pounding_racing_heart                               482686 non-null  object \n",
      " 126  shaky                                               482686 non-null  object \n",
      " 127  diabetes_other                                      482686 non-null  object \n",
      " 128  appetite                                            481632 non-null  object \n",
      " 129  sn_pre_poured_medications                           482994 non-null  object \n",
      " 130  compartmentalized_pre_pour_container                482994 non-null  object \n",
      " 131  complies_with_plan_of_care                          425050 non-null  object \n",
      " 132  change_in_plan_of_care_needed                       421846 non-null  object \n",
      " 133  patient_caregiver_satisfied_with_service            452232 non-null  object \n",
      " 134  paraprofessional_response                           395693 non-null  object \n",
      " 135  normal_skin_tone                                    482005 non-null  object \n",
      " 136  intact                                              482005 non-null  object \n",
      " 137  cyanotic                                            482005 non-null  object \n",
      " 138  cool                                                482005 non-null  object \n",
      " 139  dry_flaky                                           482005 non-null  object \n",
      " 140  ecchymosis                                          482005 non-null  object \n",
      " 141  erythema                                            482005 non-null  object \n",
      " 142  flushed                                             482005 non-null  object \n",
      " 143  skin_assessment_jaundice                            482005 non-null  object \n",
      " 144  mottled                                             482005 non-null  object \n",
      " 145  pallor                                              482005 non-null  object \n",
      " 146  petechia                                            482005 non-null  object \n",
      " 147  pruritis                                            482005 non-null  object \n",
      " 148  rash                                                482005 non-null  object \n",
      " 149  warm                                                482005 non-null  object \n",
      " 150  turgor                                              482005 non-null  object \n",
      " 151  lesion                                              482005 non-null  object \n",
      " 152  wound                                               482005 non-null  object \n",
      " 153  wound_number_y                                      482005 non-null  float64\n",
      " 154  mental_status_alert                                 482459 non-null  object \n",
      " 155  oriented_x3                                         482459 non-null  object \n",
      " 156  forgetful                                           482459 non-null  object \n",
      " 157  disoriented                                         482459 non-null  object \n",
      " 158  neuro_asymptomatic                                  482459 non-null  object \n",
      " 159  neuro_dizziness                                     482459 non-null  object \n",
      " 160  neuro_lethargic                                     482459 non-null  object \n",
      " 161  neuro_seizure                                       482459 non-null  object \n",
      " 162  neuro_unsteady_gait                                 482459 non-null  object \n",
      " 163  neuro_paralysis                                     481330 non-null  object \n",
      " 164  neuro_tremors                                       482459 non-null  object \n",
      " 165  psychological_behavioral                            482459 non-null  object \n",
      " 166  documentation_type                                  504888 non-null  object \n",
      " 167  bp_type                                             464958 non-null  object \n",
      " 168  temp_t                                              471526 non-null  object \n",
      " 169  device_o                                            476468 non-null  object \n",
      " 170  pulse_r                                             361764 non-null  object \n",
      " 171  resp_descr                                          466220 non-null  object \n",
      "dtypes: float64(9), int64(3), object(160)\n",
      "memory usage: 662.6+ MB\n"
     ]
    }
   ],
   "source": [
    "health_stats_df.info(verbose=True, show_counts=True)"
   ]
  },
  {
   "cell_type": "markdown",
   "metadata": {},
   "source": [
    "Cast variables to correct types:"
   ]
  },
  {
   "cell_type": "code",
   "execution_count": 19,
   "metadata": {
    "tags": []
   },
   "outputs": [],
   "source": [
    "# The year, month, and week_no variables should be strings\n",
    "health_stats_df.visit_date_year = health_stats_df.visit_date_year.astype(int)\n",
    "health_stats_df.visit_date_month = health_stats_df.visit_date_month.astype(int)\n",
    "health_stats_df.visit_date_week_no = health_stats_df.visit_date_week_no.astype(int)\n",
    "\n",
    "# The visit date week field should be a date field\n",
    "health_stats_df.visit_date_week_dt = pd.to_datetime(health_stats_df.visit_date_week_dt)\n",
    "\n",
    "# The visit date week field should be a date field\n",
    "health_stats_df.visit_date = pd.to_datetime(health_stats_df.visit_date)"
   ]
  },
  {
   "cell_type": "markdown",
   "metadata": {
    "tags": []
   },
   "source": [
    "Each combination of uid and visitdate should guarantee uniqueness.  We see that their exist duplicates in our dataset:"
   ]
  },
  {
   "cell_type": "code",
   "execution_count": 20,
   "metadata": {
    "tags": []
   },
   "outputs": [
    {
     "data": {
      "text/plain": [
       "False"
      ]
     },
     "execution_count": 20,
     "metadata": {},
     "output_type": "execute_result"
    }
   ],
   "source": [
    "len(health_stats_df) == len(health_stats_df[['uid','visit_date']].drop_duplicates())"
   ]
  },
  {
   "cell_type": "markdown",
   "metadata": {},
   "source": [
    "As mentioned previously, due to the manner in which the data is collected, the med_profile_medication causes duplication.  Let's drop the med_profile_medication field for now to check for any other duplication at the visit level. (We will one-hot encode these values and merge it back into the health stats dataset in subsequent steps)"
   ]
  },
  {
   "cell_type": "code",
   "execution_count": 21,
   "metadata": {
    "tags": []
   },
   "outputs": [],
   "source": [
    "# Drop medication column to encode add back later\n",
    "health_stats_meds_df = health_stats_df[['med_profile_medication']]\n",
    "health_stats_df.drop('med_profile_medication', axis=1, inplace=True)"
   ]
  },
  {
   "cell_type": "markdown",
   "metadata": {
    "tags": []
   },
   "source": [
    "After analyzing the records, we determine it's safe to drop the duplicate rows and simply keep the last set of values."
   ]
  },
  {
   "cell_type": "code",
   "execution_count": 22,
   "metadata": {
    "tags": []
   },
   "outputs": [],
   "source": [
    "health_stats_df.drop_duplicates(subset=['uid','visit_date'], keep='last', inplace=True)"
   ]
  },
  {
   "cell_type": "markdown",
   "metadata": {
    "tags": []
   },
   "source": [
    "Once we drop the med_profile_medication field the dataframe now has no duplicates."
   ]
  },
  {
   "cell_type": "code",
   "execution_count": 23,
   "metadata": {
    "tags": []
   },
   "outputs": [
    {
     "data": {
      "text/plain": [
       "True"
      ]
     },
     "execution_count": 23,
     "metadata": {},
     "output_type": "execute_result"
    }
   ],
   "source": [
    "len(health_stats_df) == len(health_stats_df[['uid','visit_date']].drop_duplicates())"
   ]
  },
  {
   "cell_type": "markdown",
   "metadata": {
    "tags": []
   },
   "source": [
    "The health statistics dataframe has now been deduped for all fields with the exception of medications (we will deal with that field later)"
   ]
  },
  {
   "cell_type": "markdown",
   "metadata": {},
   "source": [
    "#### Summary | Health Statistic | Meds | Data Profiling\n",
    "\n",
    "From the profiling of Meds data, we can see the most prevalent type of medications: \n",
    "\n",
    "**1. Atorvastatin Calcium** - Used together with a proper diet to lower cholesterol and triglyceride (fats) levels in the blood.<br>\n",
    "**2. Aspirin** - Can treat mild to moderate pain, inflammation or arthritis. It also lowers your risk of heart attack, stroke or blood clot.<br> \n",
    "**3. Amlodipine Besylate** - Used to treat high cholestorel.\n",
    "\n",
    "Once we've joined this data to our visit data we can begin to determine correlation with our target variable--hospitalizations.\n"
   ]
  },
  {
   "cell_type": "code",
   "execution_count": 24,
   "metadata": {
    "tags": []
   },
   "outputs": [
    {
     "data": {
      "application/vnd.jupyter.widget-view+json": {
       "model_id": "e8cf1b3c056241bfbfcb4b5ab9f1cae8",
       "version_major": 2,
       "version_minor": 0
      },
      "text/plain": [
       "Summarize dataset:   0%|          | 0/5 [00:00<?, ?it/s]"
      ]
     },
     "metadata": {},
     "output_type": "display_data"
    },
    {
     "data": {
      "application/vnd.jupyter.widget-view+json": {
       "model_id": "d3c285eb87ab49d1be61b17a812167c4",
       "version_major": 2,
       "version_minor": 0
      },
      "text/plain": [
       "Generate report structure:   0%|          | 0/1 [00:00<?, ?it/s]"
      ]
     },
     "metadata": {},
     "output_type": "display_data"
    },
    {
     "data": {
      "application/vnd.jupyter.widget-view+json": {
       "model_id": "ee212ce7d93e4280b32a823229b1787b",
       "version_major": 2,
       "version_minor": 0
      },
      "text/plain": [
       "Render HTML:   0%|          | 0/1 [00:00<?, ?it/s]"
      ]
     },
     "metadata": {},
     "output_type": "display_data"
    },
    {
     "data": {
      "application/vnd.jupyter.widget-view+json": {
       "model_id": "25762c1d6abc45b281f1547b98d6dc17",
       "version_major": 2,
       "version_minor": 0
      },
      "text/plain": [
       "Export report to file:   0%|          | 0/1 [00:00<?, ?it/s]"
      ]
     },
     "metadata": {},
     "output_type": "display_data"
    }
   ],
   "source": [
    "health_stats_meds_report = ProfileReport(health_stats_meds_df, title='Health Statistics | Medications')\n",
    "health_stats_meds_report.to_file(\"./htm/health_stats_meds_report.html\")"
   ]
  },
  {
   "cell_type": "markdown",
   "metadata": {},
   "source": [
    "#### Summary | Health Statistic Data Profiling\n",
    "\n",
    "There are over 171 health statistics (outside of medications taken) as categorical variables within our dataset. The majority of variables are highly imbalanced, so we will need to determine which of these features are correlated with hospitalizations and which do not provide signficant predictive power and can be discarded."
   ]
  },
  {
   "cell_type": "code",
   "execution_count": 25,
   "metadata": {
    "tags": []
   },
   "outputs": [],
   "source": [
    "# health_stats_non_meds_report = ProfileReport(health_stats_df, title='Health Statistics | Non-Medications')\n",
    "# health_stats_non_meds_report.to_file(\"./htm/health_stats_non_meds.html\")"
   ]
  },
  {
   "cell_type": "markdown",
   "metadata": {
    "tags": []
   },
   "source": [
    "We now move on to imputation of missing values."
   ]
  },
  {
   "cell_type": "markdown",
   "metadata": {
    "tags": []
   },
   "source": [
    "# Health Statistic Imputation Strategy\n",
    "\n",
    "As a reminder, the dataset we're working with consists of at-home healthcare visits. There are some visits during which health statistics we're captured.  However, during the majority of visits no statistics were collected.  Key to our imputation strategy is to first forward-fill and then back-fill health statistics data for each patient across their entire visit history.  For cases in which there is a statistic that was never captured for a patient, we will impute using the mean for specific numeric statistic (e.g., systolic blood pressure)  and the most frequent occurence for a categorical statistic (e.g., nausea, medications taken etc.)\n",
    "\n",
    "\n",
    "At a high level, the main imputation steps are:\n",
    "<br></br>\n",
    "\n",
    "1. Propagate health statistics forward and backward across each patient's visit history.\n",
    "2. For cases in which a specific health statistic was not entered for a patient, impute the average values from the entire patient population for numeric features or the most frequently occuring value for categorical features.\n",
    "3. Aggregate data at weekly granularity for hospitalization prediction on a weekly basis.\n",
    "4. Union all visits with visits where health statistics were captured. \n",
    "5. Propagate health statistics forward and backward across each patient's visit history."
   ]
  },
  {
   "cell_type": "markdown",
   "metadata": {},
   "source": [
    "![imputation_strategy](img/diagnosis_imputation_strategy_med_v3.png)"
   ]
  },
  {
   "cell_type": "markdown",
   "metadata": {
    "application/vnd.databricks.v1+cell": {
     "cellMetadata": {
      "byteLimit": 2048000,
      "rowLimit": 10000
     },
     "inputWidgets": {},
     "nuid": "22eeb5da-532f-48d9-b9b0-f32722668ca5",
     "showTitle": false,
     "title": ""
    }
   },
   "source": [
    "## Propagate health statistics forward and backward across each patient's visit history."
   ]
  },
  {
   "cell_type": "markdown",
   "metadata": {
    "application/vnd.databricks.v1+cell": {
     "cellMetadata": {
      "byteLimit": 2048000,
      "rowLimit": 10000
     },
     "inputWidgets": {},
     "nuid": "3e956135-1097-49ee-9812-a4c95fea259e",
     "showTitle": false,
     "title": ""
    }
   },
   "source": [
    "Merge patient and health stats data."
   ]
  },
  {
   "cell_type": "code",
   "execution_count": 26,
   "metadata": {
    "application/vnd.databricks.v1+cell": {
     "cellMetadata": {
      "byteLimit": 2048000,
      "rowLimit": 10000
     },
     "inputWidgets": {},
     "nuid": "f7fbb03b-ea16-44e3-a68d-9480263cb18e",
     "showTitle": false,
     "title": ""
    },
    "tags": []
   },
   "outputs": [],
   "source": [
    "# Merge patient and diagnosis data\n",
    "patients_health_stats_df = patients_df.merge(health_stats_df, left_on='uid', right_on='uid', how='inner')"
   ]
  },
  {
   "cell_type": "markdown",
   "metadata": {
    "application/vnd.databricks.v1+cell": {
     "cellMetadata": {
      "byteLimit": 2048000,
      "rowLimit": 10000
     },
     "inputWidgets": {},
     "nuid": "c7501057-55a9-4aa2-890d-1fa3246484eb",
     "showTitle": false,
     "title": ""
    }
   },
   "source": [
    "One-hot encode categorical variables that were initally dropped from the health statistics dataframe and standardize column names (i.e., remove punction, convert to lowercase and replace spaces for underscores)"
   ]
  },
  {
   "cell_type": "code",
   "execution_count": 27,
   "metadata": {
    "application/vnd.databricks.v1+cell": {
     "cellMetadata": {
      "byteLimit": 2048000,
      "rowLimit": 10000
     },
     "inputWidgets": {},
     "nuid": "4ecc02c1-0c47-462f-889e-e82c9bef8e6f",
     "showTitle": false,
     "title": ""
    },
    "tags": []
   },
   "outputs": [],
   "source": [
    "# Dummy encode meds\n",
    "health_stats_meds_df = pd.get_dummies(health_stats_meds_df, prefix='med_')\n",
    "health_stats_meds_df = standardize_column_names(health_stats_meds_df)"
   ]
  },
  {
   "cell_type": "markdown",
   "metadata": {},
   "source": [
    "Rejoin dummy encoded medication variables to rest of health stastic data"
   ]
  },
  {
   "cell_type": "code",
   "execution_count": 28,
   "metadata": {
    "application/vnd.databricks.v1+cell": {
     "cellMetadata": {
      "byteLimit": 2048000,
      "rowLimit": 10000
     },
     "inputWidgets": {},
     "nuid": "759e3a7c-6299-484f-8698-71a383a1c905",
     "showTitle": false,
     "title": ""
    },
    "tags": []
   },
   "outputs": [],
   "source": [
    "# Rejoin patient health stats with meds one-hot encoded dummy values\n",
    "patients_health_stats_df = patients_health_stats_df.join(health_stats_meds_df)"
   ]
  },
  {
   "cell_type": "markdown",
   "metadata": {},
   "source": [
    "Now that we've dummy encoded the medication features, we see that the number of columns in our dataset has balloneed to 1,625.  We will also need to determine which medications are correlated with hospitalizations to determine which we will keep and which we can drop from our dataset."
   ]
  },
  {
   "cell_type": "code",
   "execution_count": 29,
   "metadata": {
    "tags": []
   },
   "outputs": [
    {
     "data": {
      "text/plain": [
       "1625"
      ]
     },
     "execution_count": 29,
     "metadata": {},
     "output_type": "execute_result"
    }
   ],
   "source": [
    "len(patients_health_stats_df.columns)"
   ]
  },
  {
   "cell_type": "code",
   "execution_count": 30,
   "metadata": {
    "application/vnd.databricks.v1+cell": {
     "cellMetadata": {
      "byteLimit": 2048000,
      "rowLimit": 10000
     },
     "inputWidgets": {},
     "nuid": "ec379438-a6e6-4047-ac4e-8f0a4cef1cb1",
     "showTitle": false,
     "title": ""
    },
    "tags": []
   },
   "outputs": [
    {
     "name": "stdout",
     "output_type": "stream",
     "text": [
      "There are 114,732 remaining null values.\n"
     ]
    }
   ],
   "source": [
    "null_counts = get_null_counts(patients_health_stats_df)\n",
    "print('There are '+f\"{null_counts:,}\"+ ' remaining null values.') "
   ]
  },
  {
   "cell_type": "markdown",
   "metadata": {
    "application/vnd.databricks.v1+cell": {
     "cellMetadata": {
      "byteLimit": 2048000,
      "rowLimit": 10000
     },
     "inputWidgets": {},
     "nuid": "e432eea4-4ba0-4c91-855f-8f6f38a5162c",
     "showTitle": false,
     "title": ""
    }
   },
   "source": [
    "### Impute Missing Values"
   ]
  },
  {
   "cell_type": "markdown",
   "metadata": {
    "application/vnd.databricks.v1+cell": {
     "cellMetadata": {
      "byteLimit": 2048000,
      "rowLimit": 10000
     },
     "inputWidgets": {},
     "nuid": "3be57268-efc7-40ee-8549-3ca3d132c266",
     "showTitle": false,
     "title": ""
    }
   },
   "source": [
    "#### Impute Missing Values by Patient"
   ]
  },
  {
   "cell_type": "markdown",
   "metadata": {
    "application/vnd.databricks.v1+cell": {
     "cellMetadata": {
      "byteLimit": 2048000,
      "rowLimit": 10000
     },
     "inputWidgets": {},
     "nuid": "c6bd049c-2fee-45f5-a918-177fc2415485",
     "showTitle": false,
     "title": ""
    }
   },
   "source": [
    "Not all health statistics were captured during each patient visit (e.g., weight may have been take on the initial visit for a particular patient but not for a subsequent visit).  Therefore, we will impute missing statistics per patient first based on the last known statistic captured (i.e., forward fill the data-point) and then impute remaining missing values by back-filling missing data points. The \"impute_missing_values_by_patient\" function does this as described in the section: [Health Statistic Imputation Strategy](#Health-Statistic-Imputation-Strategy)"
   ]
  },
  {
   "cell_type": "code",
   "execution_count": 31,
   "metadata": {
    "application/vnd.databricks.v1+cell": {
     "cellMetadata": {
      "byteLimit": 2048000,
      "rowLimit": 10000
     },
     "inputWidgets": {},
     "nuid": "32545f83-15d5-43ec-84bb-74384765a80e",
     "showTitle": false,
     "title": ""
    },
    "tags": []
   },
   "outputs": [],
   "source": [
    "sort_cols = ['uid', 'visit_date_week_dt']\n",
    "group_key = 'uid'\n",
    "\n",
    "# patients_health_stats_df = impute_missing_values_by_group(patients_health_stats_df, 'uid', sort_cols)\n",
    "\n",
    "patients_health_stats_df = patients_health_stats_df.sort_values(by=sort_cols)\n",
    "\n",
    "some_cols = patients_health_stats_df.columns.to_list()\n",
    "some_cols.remove(group_key)\n",
    "\n",
    "patients_health_stats_df[[group_key] + some_cols] = patients_health_stats_df[[group_key] + some_cols].groupby(patients_health_stats_df[group_key]).ffill().groupby(patients_health_stats_df[group_key]).bfill()\n",
    "    \n",
    "patients_health_stats_df.drop_duplicates(inplace=True)"
   ]
  },
  {
   "cell_type": "code",
   "execution_count": 32,
   "metadata": {
    "application/vnd.databricks.v1+cell": {
     "cellMetadata": {
      "byteLimit": 2048000,
      "rowLimit": 10000
     },
     "inputWidgets": {},
     "nuid": "2e58870e-358e-44e2-8d74-ba0f40e1f513",
     "showTitle": false,
     "title": ""
    },
    "tags": []
   },
   "outputs": [
    {
     "name": "stdout",
     "output_type": "stream",
     "text": [
      "There are 20,464 remaining null values.\n"
     ]
    }
   ],
   "source": [
    "null_counts = get_null_counts(patients_health_stats_df)\n",
    "print('There are '+f\"{null_counts:,}\"+ ' remaining null values.')"
   ]
  },
  {
   "cell_type": "markdown",
   "metadata": {},
   "source": [
    "We've reduced the number of null values by patient by imputing statistics captured during a prior or subsequent visit.  Based on the remaining columns with missing values and the percentage of missing values, it is safe to continue imputing the remaining values using the sample mean for numeric values and frequency for categorical."
   ]
  },
  {
   "cell_type": "code",
   "execution_count": 33,
   "metadata": {
    "tags": []
   },
   "outputs": [
    {
     "data": {
      "text/html": [
       "<div>\n",
       "<style scoped>\n",
       "    .dataframe tbody tr th:only-of-type {\n",
       "        vertical-align: middle;\n",
       "    }\n",
       "\n",
       "    .dataframe tbody tr th {\n",
       "        vertical-align: top;\n",
       "    }\n",
       "\n",
       "    .dataframe thead th {\n",
       "        text-align: right;\n",
       "    }\n",
       "</style>\n",
       "<table border=\"1\" class=\"dataframe\">\n",
       "  <thead>\n",
       "    <tr style=\"text-align: right;\">\n",
       "      <th></th>\n",
       "      <th>column_name</th>\n",
       "      <th>percent_missing</th>\n",
       "    </tr>\n",
       "  </thead>\n",
       "  <tbody>\n",
       "    <tr>\n",
       "      <th>1</th>\n",
       "      <td>paraprofessional_response</td>\n",
       "      <td>11.64</td>\n",
       "    </tr>\n",
       "    <tr>\n",
       "      <th>2</th>\n",
       "      <td>change_in_plan_of_care_needed</td>\n",
       "      <td>9.60</td>\n",
       "    </tr>\n",
       "    <tr>\n",
       "      <th>3</th>\n",
       "      <td>complies_with_plan_of_care</td>\n",
       "      <td>9.34</td>\n",
       "    </tr>\n",
       "    <tr>\n",
       "      <th>4</th>\n",
       "      <td>device_walker</td>\n",
       "      <td>8.98</td>\n",
       "    </tr>\n",
       "    <tr>\n",
       "      <th>5</th>\n",
       "      <td>device_cane</td>\n",
       "      <td>5.46</td>\n",
       "    </tr>\n",
       "    <tr>\n",
       "      <th>6</th>\n",
       "      <td>patient_caregiver_satisfied_with_service</td>\n",
       "      <td>3.47</td>\n",
       "    </tr>\n",
       "    <tr>\n",
       "      <th>7</th>\n",
       "      <td>bp_type</td>\n",
       "      <td>2.68</td>\n",
       "    </tr>\n",
       "    <tr>\n",
       "      <th>8</th>\n",
       "      <td>resp_descr</td>\n",
       "      <td>2.61</td>\n",
       "    </tr>\n",
       "    <tr>\n",
       "      <th>9</th>\n",
       "      <td>temp_t</td>\n",
       "      <td>2.20</td>\n",
       "    </tr>\n",
       "    <tr>\n",
       "      <th>10</th>\n",
       "      <td>lungs_right_posterior_middle</td>\n",
       "      <td>2.03</td>\n",
       "    </tr>\n",
       "    <tr>\n",
       "      <th>11</th>\n",
       "      <td>lungs_right_anterior</td>\n",
       "      <td>2.03</td>\n",
       "    </tr>\n",
       "    <tr>\n",
       "      <th>12</th>\n",
       "      <td>lungs_left_anterior</td>\n",
       "      <td>2.03</td>\n",
       "    </tr>\n",
       "    <tr>\n",
       "      <th>13</th>\n",
       "      <td>lungs_right_posterior_upper</td>\n",
       "      <td>2.03</td>\n",
       "    </tr>\n",
       "    <tr>\n",
       "      <th>14</th>\n",
       "      <td>lungs_right_posterior_lower</td>\n",
       "      <td>2.03</td>\n",
       "    </tr>\n",
       "    <tr>\n",
       "      <th>15</th>\n",
       "      <td>lungs_left_posterior_lower</td>\n",
       "      <td>2.03</td>\n",
       "    </tr>\n",
       "    <tr>\n",
       "      <th>16</th>\n",
       "      <td>lungs_left_posterior_upper</td>\n",
       "      <td>2.03</td>\n",
       "    </tr>\n",
       "    <tr>\n",
       "      <th>17</th>\n",
       "      <td>device_transfer_assist</td>\n",
       "      <td>1.41</td>\n",
       "    </tr>\n",
       "    <tr>\n",
       "      <th>18</th>\n",
       "      <td>left_upper_extremity</td>\n",
       "      <td>1.29</td>\n",
       "    </tr>\n",
       "    <tr>\n",
       "      <th>19</th>\n",
       "      <td>bowel_sounds</td>\n",
       "      <td>1.27</td>\n",
       "    </tr>\n",
       "  </tbody>\n",
       "</table>\n",
       "</div>"
      ],
      "text/plain": [
       "                                 column_name  percent_missing\n",
       "1                  paraprofessional_response            11.64\n",
       "2              change_in_plan_of_care_needed             9.60\n",
       "3                 complies_with_plan_of_care             9.34\n",
       "4                              device_walker             8.98\n",
       "5                                device_cane             5.46\n",
       "6   patient_caregiver_satisfied_with_service             3.47\n",
       "7                                    bp_type             2.68\n",
       "8                                 resp_descr             2.61\n",
       "9                                     temp_t             2.20\n",
       "10              lungs_right_posterior_middle             2.03\n",
       "11                      lungs_right_anterior             2.03\n",
       "12                       lungs_left_anterior             2.03\n",
       "13               lungs_right_posterior_upper             2.03\n",
       "14               lungs_right_posterior_lower             2.03\n",
       "15                lungs_left_posterior_lower             2.03\n",
       "16                lungs_left_posterior_upper             2.03\n",
       "17                    device_transfer_assist             1.41\n",
       "18                      left_upper_extremity             1.29\n",
       "19                              bowel_sounds             1.27"
      ]
     },
     "execution_count": 33,
     "metadata": {},
     "output_type": "execute_result"
    }
   ],
   "source": [
    "percentage_of_missing_values(patients_health_stats_df)[1:20]"
   ]
  },
  {
   "cell_type": "markdown",
   "metadata": {
    "application/vnd.databricks.v1+cell": {
     "cellMetadata": {
      "byteLimit": 2048000,
      "rowLimit": 10000
     },
     "inputWidgets": {},
     "nuid": "a4e41490-99a3-4704-af99-a8c34703d87a",
     "showTitle": false,
     "title": ""
    }
   },
   "source": [
    "## Cases for which a specific health statistic was never entered for a patient"
   ]
  },
  {
   "cell_type": "markdown",
   "metadata": {
    "application/vnd.databricks.v1+cell": {
     "cellMetadata": {
      "byteLimit": 2048000,
      "rowLimit": 10000
     },
     "inputWidgets": {},
     "nuid": "98bacb50-d428-447d-a4f7-f4b401c41a32",
     "showTitle": false,
     "title": ""
    }
   },
   "source": [
    "#### Impute Remaining Missing Values"
   ]
  },
  {
   "cell_type": "markdown",
   "metadata": {
    "application/vnd.databricks.v1+cell": {
     "cellMetadata": {
      "byteLimit": 2048000,
      "rowLimit": 10000
     },
     "inputWidgets": {},
     "nuid": "a0a30aa4-97f3-43d5-8fba-6014dcdb468e",
     "showTitle": false,
     "title": ""
    }
   },
   "source": [
    "Now we will impute the remaining missing values."
   ]
  },
  {
   "cell_type": "code",
   "execution_count": 34,
   "metadata": {
    "application/vnd.databricks.v1+cell": {
     "cellMetadata": {
      "byteLimit": 2048000,
      "rowLimit": 10000
     },
     "inputWidgets": {},
     "nuid": "176d0192-dee4-427b-8359-cf80fbb4fb6c",
     "showTitle": false,
     "title": ""
    },
    "tags": []
   },
   "outputs": [],
   "source": [
    "# Drop visit date columns\n",
    "df_non_diagnosis_cols = patients_health_stats_df[['visit_date_year', 'visit_date_month',\n",
    "       'visit_date_week_no','uid', 'visit_date',\n",
    "       'visit_date_week_dt']]\n",
    "\n",
    "patients_health_stats_df.drop(df_non_diagnosis_cols.columns, axis=1, inplace=True)\n",
    "\n",
    "# Identify numeric and categorical columns for imputation\n",
    "num_cols = patients_health_stats_df.select_dtypes(include=['float64', 'int32', 'int64']).columns\n",
    "cat_cols = patients_health_stats_df.select_dtypes(include=['object']).columns"
   ]
  },
  {
   "cell_type": "markdown",
   "metadata": {
    "application/vnd.databricks.v1+cell": {
     "cellMetadata": {
      "byteLimit": 2048000,
      "rowLimit": 10000
     },
     "inputWidgets": {},
     "nuid": "e029d848-42b9-4216-96ef-8c3641cfde6b",
     "showTitle": false,
     "title": ""
    }
   },
   "source": [
    "##### Numeric Value Imputation"
   ]
  },
  {
   "cell_type": "markdown",
   "metadata": {
    "application/vnd.databricks.v1+cell": {
     "cellMetadata": {
      "byteLimit": 2048000,
      "rowLimit": 10000
     },
     "inputWidgets": {},
     "nuid": "98072f34-b53a-4f8b-bc6c-7628c557f187",
     "showTitle": false,
     "title": ""
    }
   },
   "source": [
    "For remaining missing numeric values, we will impute by taking the mean of the missing statistic across the full patient population."
   ]
  },
  {
   "cell_type": "code",
   "execution_count": 35,
   "metadata": {
    "application/vnd.databricks.v1+cell": {
     "cellMetadata": {
      "byteLimit": 2048000,
      "rowLimit": 10000
     },
     "inputWidgets": {},
     "nuid": "0fdf34f0-4373-442c-9818-c667e546fdc6",
     "showTitle": false,
     "title": ""
    },
    "tags": []
   },
   "outputs": [],
   "source": [
    "imputer = SimpleImputer(strategy='mean', missing_values=np.nan)\n",
    "imputer = imputer.fit(patients_health_stats_df[num_cols])\n",
    "patients_health_stats_df[num_cols] = imputer.transform(patients_health_stats_df[num_cols])"
   ]
  },
  {
   "cell_type": "markdown",
   "metadata": {
    "application/vnd.databricks.v1+cell": {
     "cellMetadata": {
      "byteLimit": 2048000,
      "rowLimit": 10000
     },
     "inputWidgets": {},
     "nuid": "a7c8213f-8d42-4d21-8e01-6955e7608596",
     "showTitle": false,
     "title": ""
    }
   },
   "source": [
    "##### Categorical Value Imputation"
   ]
  },
  {
   "cell_type": "markdown",
   "metadata": {
    "application/vnd.databricks.v1+cell": {
     "cellMetadata": {
      "byteLimit": 2048000,
      "rowLimit": 10000
     },
     "inputWidgets": {},
     "nuid": "d6425fc2-80eb-424c-8c3e-ad6855f7c729",
     "showTitle": false,
     "title": ""
    }
   },
   "source": [
    "For categorical value imputation, we will simply impute the constant \"no_value\" when a data-point is missing."
   ]
  },
  {
   "cell_type": "code",
   "execution_count": 36,
   "metadata": {
    "application/vnd.databricks.v1+cell": {
     "cellMetadata": {
      "byteLimit": 2048000,
      "rowLimit": 10000
     },
     "inputWidgets": {},
     "nuid": "21f3d756-83ac-4c60-a2cf-01c583d2225c",
     "showTitle": false,
     "title": ""
    },
    "tags": []
   },
   "outputs": [],
   "source": [
    "# Categorical values\n",
    "imputer = SimpleImputer(strategy='most_frequent')\n",
    "imputer = imputer.fit(patients_health_stats_df[cat_cols])\n",
    "patients_health_stats_df[cat_cols] = imputer.transform(patients_health_stats_df[cat_cols])"
   ]
  },
  {
   "cell_type": "code",
   "execution_count": 37,
   "metadata": {
    "application/vnd.databricks.v1+cell": {
     "cellMetadata": {
      "byteLimit": 2048000,
      "rowLimit": 10000
     },
     "inputWidgets": {},
     "nuid": "0f182bb9-2ae7-42cf-bac6-0a014b6ea95d",
     "showTitle": false,
     "title": ""
    },
    "tags": []
   },
   "outputs": [],
   "source": [
    "# Rejoin all imputed columns\n",
    "patients_health_stats_df = df_non_diagnosis_cols.join(patients_health_stats_df)"
   ]
  },
  {
   "cell_type": "code",
   "execution_count": 38,
   "metadata": {
    "application/vnd.databricks.v1+cell": {
     "cellMetadata": {
      "byteLimit": 2048000,
      "rowLimit": 10000
     },
     "inputWidgets": {},
     "nuid": "3ff946d3-4ad5-469b-81e5-9dcc2254801f",
     "showTitle": false,
     "title": ""
    },
    "tags": []
   },
   "outputs": [
    {
     "name": "stdout",
     "output_type": "stream",
     "text": [
      "There are 0 remaining null values.\n"
     ]
    }
   ],
   "source": [
    "null_counts = get_null_counts(patients_health_stats_df)\n",
    "print('There are '+f\"{null_counts:,}\"+ ' remaining null values.')"
   ]
  },
  {
   "cell_type": "markdown",
   "metadata": {
    "application/vnd.databricks.v1+cell": {
     "cellMetadata": {
      "byteLimit": 2048000,
      "rowLimit": 10000
     },
     "inputWidgets": {},
     "nuid": "af40d8c7-5e1f-45ba-b638-8cb7b01b3a4f",
     "showTitle": false,
     "title": ""
    }
   },
   "source": [
    "## Aggregate Data at the Weekly Granularity"
   ]
  },
  {
   "cell_type": "markdown",
   "metadata": {
    "application/vnd.databricks.v1+cell": {
     "cellMetadata": {
      "byteLimit": 2048000,
      "rowLimit": 10000
     },
     "inputWidgets": {},
     "nuid": "7154eee5-7152-4fac-8a85-236e75c8384c",
     "showTitle": false,
     "title": ""
    }
   },
   "source": [
    "Aggregate visit and health statistics data at the weekly level.  Visits during which health statistics were gathered for a patient occured mainly at weekly intervals with a few exceptions.  For cases in which more than one visit occured in one week we will take the max values for all statistics."
   ]
  },
  {
   "cell_type": "code",
   "execution_count": 39,
   "metadata": {
    "application/vnd.databricks.v1+cell": {
     "cellMetadata": {
      "byteLimit": 2048000,
      "rowLimit": 10000
     },
     "inputWidgets": {},
     "nuid": "9afc162e-c0c3-4265-ae46-6e621bf613ea",
     "showTitle": false,
     "title": ""
    },
    "tags": []
   },
   "outputs": [],
   "source": [
    "grouping_cols = ['uid','visit_date_week_dt']\n",
    "\n",
    "patients_health_stats_by_week_df = patients_health_stats_df.sort_values(by=grouping_cols).groupby(grouping_cols).max().reset_index()\n",
    "\n",
    "# Drop visit_date since we have aggregated at weekly granularity\n",
    "patients_health_stats_df.drop('visit_date', axis=1,inplace=True)"
   ]
  },
  {
   "cell_type": "code",
   "execution_count": 40,
   "metadata": {
    "tags": []
   },
   "outputs": [
    {
     "data": {
      "text/plain": [
       "4177"
      ]
     },
     "execution_count": 40,
     "metadata": {},
     "output_type": "execute_result"
    }
   ],
   "source": [
    "len(patients_health_stats_by_week_df)"
   ]
  },
  {
   "cell_type": "markdown",
   "metadata": {},
   "source": [
    "## Union Visit and Health Statistic Data"
   ]
  },
  {
   "cell_type": "code",
   "execution_count": 41,
   "metadata": {
    "tags": []
   },
   "outputs": [],
   "source": [
    "visits_health_stats_by_week_df = pd.concat([patients_health_stats_by_week_df, visits_df])"
   ]
  },
  {
   "cell_type": "code",
   "execution_count": 42,
   "metadata": {
    "tags": []
   },
   "outputs": [
    {
     "name": "stdout",
     "output_type": "stream",
     "text": [
      "There are 91,450,016 remaining null values.\n"
     ]
    }
   ],
   "source": [
    "null_counts = get_null_counts(visits_health_stats_by_week_df)\n",
    "print('There are '+f\"{null_counts:,}\"+ ' remaining null values.')"
   ]
  },
  {
   "cell_type": "markdown",
   "metadata": {},
   "source": [
    "## Propagate health statistics forward and backward across each patient's visit history."
   ]
  },
  {
   "cell_type": "code",
   "execution_count": 43,
   "metadata": {
    "tags": []
   },
   "outputs": [],
   "source": [
    "visits_health_stats_by_week_df = visits_health_stats_by_week_df.sort_values(by=sort_cols)\n",
    "\n",
    "some_cols = visits_health_stats_by_week_df.columns.to_list()\n",
    "some_cols.remove(group_key)\n",
    "\n",
    "visits_health_stats_by_week_df[[group_key] + some_cols] = visits_health_stats_by_week_df[[group_key] + some_cols].groupby(visits_health_stats_by_week_df[group_key]).ffill().groupby(visits_health_stats_by_week_df[group_key]).bfill()\n",
    "    \n",
    "visits_health_stats_by_week_df.drop_duplicates(inplace=True)"
   ]
  },
  {
   "cell_type": "code",
   "execution_count": 44,
   "metadata": {
    "tags": []
   },
   "outputs": [
    {
     "name": "stdout",
     "output_type": "stream",
     "text": [
      "There are 0 remaining null values.\n"
     ]
    }
   ],
   "source": [
    "null_counts = get_null_counts(visits_health_stats_by_week_df)\n",
    "print('There are '+f\"{null_counts:,}\"+ ' remaining null values.')"
   ]
  },
  {
   "cell_type": "markdown",
   "metadata": {
    "application/vnd.databricks.v1+cell": {
     "cellMetadata": {
      "byteLimit": 2048000,
      "rowLimit": 10000
     },
     "inputWidgets": {},
     "nuid": "b629f601-49fd-474e-b047-69d24da5106e",
     "showTitle": false,
     "title": ""
    }
   },
   "source": [
    "# Save Dataset for EDA"
   ]
  },
  {
   "cell_type": "code",
   "execution_count": 45,
   "metadata": {
    "tags": []
   },
   "outputs": [],
   "source": [
    "visits_health_stats_by_week_df.to_parquet('data/diagnosis_health_stats_hosp_by_week_01.parquet')"
   ]
  }
 ],
 "metadata": {
  "application/vnd.databricks.v1+notebook": {
   "dashboards": [],
   "language": "python",
   "notebookMetadata": {
    "mostRecentlyExecutedCommandWithImplicitDF": {
     "commandId": 4095753378303679,
     "dataframes": [
      "_sqldf"
     ]
    },
    "pythonIndentUnit": 4
   },
   "notebookName": "01 Patient Hospitalization Risk | Preprocessing",
   "widgets": {}
  },
  "kernelspec": {
   "display_name": "Python 3 (ipykernel)",
   "language": "python",
   "name": "python3"
  },
  "language_info": {
   "codemirror_mode": {
    "name": "ipython",
    "version": 3
   },
   "file_extension": ".py",
   "mimetype": "text/x-python",
   "name": "python",
   "nbconvert_exporter": "python",
   "pygments_lexer": "ipython3",
   "version": "3.11.4"
  },
  "toc-autonumbering": false,
  "toc-showmarkdowntxt": false
 },
 "nbformat": 4,
 "nbformat_minor": 4
}
